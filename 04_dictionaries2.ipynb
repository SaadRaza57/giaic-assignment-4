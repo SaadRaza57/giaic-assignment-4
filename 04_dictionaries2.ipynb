{
  "nbformat": 4,
  "nbformat_minor": 0,
  "metadata": {
    "colab": {
      "provenance": [],
      "authorship_tag": "ABX9TyMMA6M+7fQ5Z79AuZlfzFZv",
      "include_colab_link": true
    },
    "kernelspec": {
      "name": "python3",
      "display_name": "Python 3"
    },
    "language_info": {
      "name": "python"
    }
  },
  "cells": [
    {
      "cell_type": "markdown",
      "metadata": {
        "id": "view-in-github",
        "colab_type": "text"
      },
      "source": [
        "<a href=\"https://colab.research.google.com/github/SaadRaza57/giaic-assignment-4/blob/main/04_dictionaries2.ipynb\" target=\"_parent\"><img src=\"https://colab.research.google.com/assets/colab-badge.svg\" alt=\"Open In Colab\"/></a>"
      ]
    },
    {
      "cell_type": "code",
      "execution_count": 3,
      "metadata": {
        "colab": {
          "base_uri": "https://localhost:8080/"
        },
        "id": "WKDhLEDkUUjp",
        "outputId": "3837780d-ae0a-4580-a206-f4fcaf72c481"
      },
      "outputs": [
        {
          "output_type": "stream",
          "name": "stdout",
          "text": [
            "00_count_nums\n",
            "Enter a number (or Exit to quit): 5\n",
            "Enter a number (or Exit to quit): 7\n",
            "Enter a number (or Exit to quit): 5\n",
            "Enter a number (or Exit to quit): \n",
            "Please enter a valid number or type 'Exit' to quit.\n",
            "Enter a number (or Exit to quit): exit\n",
            "\n",
            "Number Counts:\n",
            "5 appears 2 times\n",
            "7 appears 1 times\n"
          ]
        }
      ],
      "source": [
        "print(\"00_count_nums\")\n",
        "\n",
        "def user_input():\n",
        "    count_dict = {}\n",
        "\n",
        "    while True:\n",
        "        number = input(\"Enter a number (or Exit to quit): \")\n",
        "        if number.title() == 'Exit':\n",
        "            break\n",
        "        if number.isdigit():\n",
        "            number = int(number)\n",
        "            count_dict[number] = count_dict.get(number, 0) + 1\n",
        "        else:\n",
        "            print(\"Please enter a valid number or type 'Exit' to quit.\")\n",
        "\n",
        "    return count_dict\n",
        "\n",
        "def appears_number(count_dict):\n",
        "    print(\"\\nNumber Counts:\")\n",
        "    for key, value in count_dict.items():\n",
        "        print(f'{key} appears {value} times')\n",
        "\n",
        "if __name__ == \"__main__\":\n",
        "    counts = user_input()\n",
        "    appears_number(counts)\n"
      ]
    },
    {
      "cell_type": "code",
      "source": [
        "\n",
        "print(\"01_phonebook\")\n",
        "\n",
        "def add_contact(phonebook):\n",
        "  name= input(\"Enter contact name:\")\n",
        "  number= input(\"Enter contact number:\")\n",
        "\n",
        "  if name in phonebook:\n",
        "    print(\"Contact already exists.\")\n",
        "  else:\n",
        "    phonebook[name]= number\n",
        "    print(f\"{name} added succefully\")\n",
        "\n",
        "def search_contact(phonebook):\n",
        "  name = input(\"Enter a contact name to search:\")\n",
        "  if name in phonebook:\n",
        "    print(f\"{name}'s number is {phonebook[name]}\")\n",
        "  else:\n",
        "    print(f\"{name} not found in phone book\")\n",
        "\n",
        "def delete_contact(phonebook):\n",
        "  name=input(\"Enter a number to delete:\")\n",
        "  if name in phonebook:\n",
        "    del phonebook[name]\n",
        "    print(f\"{name} deleted succefully\")\n",
        "  else:\n",
        "    print(f\"{name} not found in phone book\")\n",
        "\n",
        "def display_contact(phonebook):\n",
        "  if phonebook:\n",
        "    print(\"\\n Contact list\")\n",
        "    for name,number in phonebook.items():\n",
        "      print(f\"{name}:{number}\")\n",
        "  else:\n",
        "    print(\"Phone book is empty\")\n",
        "\n",
        "\n",
        "if __name__ == \"__main__\":\n",
        "  phonebook ={}\n",
        "\n",
        "  while True:\n",
        "    print(\"\\n Phonebook Menu:\")\n",
        "    print(\"1. Add Contact\")\n",
        "    print(\"2. Search Contact\")\n",
        "    print(\"3. Delete Contact\")\n",
        "    print(\"4. Display Contact\")\n",
        "    print(\"5. Exit\")\n",
        "\n",
        "    choice = input(\"Enter your choice(1-5): \")\n",
        "    if choice == '1':\n",
        "      add_contact(phonebook)\n",
        "    elif choice == '2':\n",
        "      search_contact(phonebook)\n",
        "    elif choice == '3':\n",
        "      delete_contact(phonebook)\n",
        "    elif choice == '4':\n",
        "      display_contact(phonebook)\n",
        "    elif choice == '5':\n",
        "      print(\"Exiting Phonebook\")\n",
        "      break\n"
      ],
      "metadata": {
        "colab": {
          "base_uri": "https://localhost:8080/"
        },
        "id": "QM6ia1FKUYdx",
        "outputId": "63462c67-f68f-4439-c6a6-f55b8d31b22e"
      },
      "execution_count": 5,
      "outputs": [
        {
          "output_type": "stream",
          "name": "stdout",
          "text": [
            "01_phonebook\n",
            "\n",
            " Phonebook Menu:\n",
            "1. Add Contact\n",
            "2. Search Contact\n",
            "3. Delete Contact\n",
            "4. Display Contact\n",
            "5. Exit\n",
            "Enter your choice(1-5): 1\n",
            "Enter contact name:saad\n",
            "Enter contact number:031111111\n",
            "saad added succefully\n",
            "\n",
            " Phonebook Menu:\n",
            "1. Add Contact\n",
            "2. Search Contact\n",
            "3. Delete Contact\n",
            "4. Display Contact\n",
            "5. Exit\n",
            "Enter your choice(1-5): 4\n",
            "\n",
            " Contact list\n",
            "saad:031111111\n",
            "\n",
            " Phonebook Menu:\n",
            "1. Add Contact\n",
            "2. Search Contact\n",
            "3. Delete Contact\n",
            "4. Display Contact\n",
            "5. Exit\n",
            "Enter your choice(1-5): 2\n",
            "Enter a contact name to search:saad\n",
            "saad's number is 031111111\n",
            "\n",
            " Phonebook Menu:\n",
            "1. Add Contact\n",
            "2. Search Contact\n",
            "3. Delete Contact\n",
            "4. Display Contact\n",
            "5. Exit\n",
            "Enter your choice(1-5): 3\n",
            "Enter a number to delete:031111111\n",
            "031111111 not found in phone book\n",
            "\n",
            " Phonebook Menu:\n",
            "1. Add Contact\n",
            "2. Search Contact\n",
            "3. Delete Contact\n",
            "4. Display Contact\n",
            "5. Exit\n",
            "Enter your choice(1-5): 5\n",
            "Exiting Phonebook\n"
          ]
        }
      ]
    },
    {
      "cell_type": "code",
      "source": [
        "\n",
        "def fruits_shop():\n",
        "    counts = {}\n",
        "    fruits = {\n",
        "        'apple': 1.5,\n",
        "        'durian': 2.5,\n",
        "        'jackfruit': 6.3,\n",
        "        'kiwi': 8.99,\n",
        "        'rambutan': 10.1,\n",
        "        'mango': 2.22\n",
        "    }\n",
        "\n",
        "    total = 0\n",
        "\n",
        "    print(\"Available fruits and prices (per unit):\")\n",
        "    for fruit, price in fruits.items():\n",
        "        print(f\"{fruit.capitalize()}: ${price}\")\n",
        "\n",
        "    print(\"\\nEnter quantity for each fruit (press Enter to skip):\")\n",
        "    for fruit in fruits:\n",
        "        qty = input(f\"{fruit.capitalize()}: \")\n",
        "        if qty.strip().isdigit():\n",
        "            qty = int(qty)\n",
        "            total += qty * fruits[fruit]\n",
        "            counts[fruit] = qty\n",
        "        elif qty.strip() != \"\":\n",
        "            print(f\"Invalid input for {fruit}, skipping.\")\n",
        "\n",
        "    print(\"\\nYour purchase summary:\")\n",
        "    for fruit, qty in counts.items():\n",
        "        print(f\"{qty} x {fruit} = ${qty * fruits[fruit]:.2f}\")\n",
        "\n",
        "    print(f\"\\nTotal cost: ${total:.2f}\")\n",
        "\n",
        "if __name__ == \"__main__\":\n",
        "    fruits_shop()\n",
        "\n",
        ""
      ],
      "metadata": {
        "colab": {
          "base_uri": "https://localhost:8080/"
        },
        "id": "jsrMruaJUjcc",
        "outputId": "2e46d0d7-475e-418d-e0ce-d046c3db276e"
      },
      "execution_count": 6,
      "outputs": [
        {
          "output_type": "stream",
          "name": "stdout",
          "text": [
            "Available fruits and prices (per unit):\n",
            "Apple: $1.5\n",
            "Durian: $2.5\n",
            "Jackfruit: $6.3\n",
            "Kiwi: $8.99\n",
            "Rambutan: $10.1\n",
            "Mango: $2.22\n",
            "\n",
            "Enter quantity for each fruit (press Enter to skip):\n",
            "Apple: 2\n",
            "Durian: 4\n",
            "Jackfruit: 5\n",
            "Kiwi: 6\n",
            "Rambutan: 1\n",
            "Mango: 8\n",
            "\n",
            "Your purchase summary:\n",
            "2 x apple = $3.00\n",
            "4 x durian = $10.00\n",
            "5 x jackfruit = $31.50\n",
            "6 x kiwi = $53.94\n",
            "1 x rambutan = $10.10\n",
            "8 x mango = $17.76\n",
            "\n",
            "Total cost: $126.30\n"
          ]
        }
      ]
    },
    {
      "cell_type": "code",
      "source": [
        "import hashlib\n",
        "print(\"03_powerful_passwords\")\n",
        "\n",
        "def hash_password(password):\n",
        "  return hashlib.sha256(password.encode()).hexdigest()\n",
        "\n",
        "stored_logins = {\n",
        "    \"user@exampke\": hash_password(\"123\"),\n",
        "    \"admin@example\": hash_password(\"456\")\n",
        "}\n",
        "\n",
        "def login(email, password):\n",
        "  if email in stored_logins:\n",
        "    return stored_logins[email] == hash_password(password)\n",
        "  return False\n",
        "\n",
        "if __name__ == \"__main__\":\n",
        "  email = input(\"Enter your email:\")\n",
        "  password = input(\"Enter your password:\")\n",
        "\n",
        "  if login(email,password):\n",
        "    print(\"Login successful\")\n",
        "  else:\n",
        "    print(\"invalid email or password\")\n",
        ""
      ],
      "metadata": {
        "colab": {
          "base_uri": "https://localhost:8080/"
        },
        "id": "cBlfZ0fJUlsk",
        "outputId": "c058c198-197e-473a-df6c-59d4b79d5461"
      },
      "execution_count": 7,
      "outputs": [
        {
          "output_type": "stream",
          "name": "stdout",
          "text": [
            "03_powerful_passwords\n",
            "Enter your email:saad@gmail.com\n",
            "Enter your password:saad\n",
            "invalid email or password\n"
          ]
        }
      ]
    }
  ]
}