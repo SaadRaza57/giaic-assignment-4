{
  "nbformat": 4,
  "nbformat_minor": 0,
  "metadata": {
    "colab": {
      "provenance": [],
      "authorship_tag": "ABX9TyM+XamyNqkvTa2H6s1us7bv",
      "include_colab_link": true
    },
    "kernelspec": {
      "name": "python3",
      "display_name": "Python 3"
    },
    "language_info": {
      "name": "python"
    }
  },
  "cells": [
    {
      "cell_type": "markdown",
      "metadata": {
        "id": "view-in-github",
        "colab_type": "text"
      },
      "source": [
        "<a href=\"https://colab.research.google.com/github/SaadRaza57/giaic-assignment-4/blob/main/03_if_statements.ipynb\" target=\"_parent\"><img src=\"https://colab.research.google.com/assets/colab-badge.svg\" alt=\"Open In Colab\"/></a>"
      ]
    },
    {
      "cell_type": "code",
      "execution_count": 1,
      "metadata": {
        "colab": {
          "base_uri": "https://localhost:8080/"
        },
        "id": "ga9jhignTh9R",
        "outputId": "fdb74580-1f91-422a-935c-9ed54adad706"
      },
      "outputs": [
        {
          "output_type": "stream",
          "name": "stdout",
          "text": [
            "01_print_events\n",
            "The first even number is 0:\n",
            "0 1 2 3 4 5 6 7 8 9 10 11 12 13 14 15 16 17 18 19 20 21 22 23 24 25 26 27 28 29 30 31 32 33 34 35 36 37 38 39 "
          ]
        }
      ],
      "source": [
        "print(\"01_print_events\")\n",
        "\n",
        "def even():\n",
        "    print(\"The first even number is 0:\")\n",
        "    for i in range(40):\n",
        "        print(i, end=' ')\n",
        "\n",
        "if __name__ == '__main__':\n",
        "    even()\n"
      ]
    },
    {
      "cell_type": "code",
      "source": [
        "\n",
        "print(\"02_international_voting_age\")\n",
        "Peturksbouipo:int=16\n",
        "Stanlau:int=25\n",
        "Mayengua:int=48\n",
        "\n",
        "def voting():\n",
        "  user_age = int(input(\"How old are you? \"))\n",
        "\n",
        "  if user_age>=Peturksbouipo:\n",
        "    print(\" You can vote in Peturksbouipo where the voting age is 16\")\n",
        "  else:\n",
        "    print(\" You can not vote in Peturksbouipo\")\n",
        "\n",
        "  if user_age>=Stanlau:\n",
        "    print(\" You can vote in Stanlau where the voting age is 25\")\n",
        "  else:\n",
        "    print(\" You can not vote in Stanlau\")\n",
        "\n",
        "  if user_age>=Mayengua:\n",
        "    print(\" You can vote in Mayengua where the voting age is 48\")\n",
        "  else:\n",
        "    print(\" You can not vote in Mayengua\")\n",
        "\n",
        "if __name__ == '__main__':\n",
        "    voting()"
      ],
      "metadata": {
        "colab": {
          "base_uri": "https://localhost:8080/"
        },
        "id": "2YVGbUDrTowP",
        "outputId": "5f630781-c1b5-43f4-945f-13013370e89c"
      },
      "execution_count": 2,
      "outputs": [
        {
          "output_type": "stream",
          "name": "stdout",
          "text": [
            "02_international_voting_age\n",
            "How old are you? 20\n",
            " You can vote in Peturksbouipo where the voting age is 16\n",
            " You can not vote in Stanlau\n",
            " You can not vote in Mayengua\n"
          ]
        }
      ]
    },
    {
      "cell_type": "code",
      "source": [
        "\n",
        "def main():\n",
        "    leap_year = int(input(\"Enter a valid year (e.g., 2000, 2006, 2024): \"))\n",
        "\n",
        "    if leap_year % 4 == 0:\n",
        "        if leap_year % 100 == 0:\n",
        "            if leap_year % 400 == 0:\n",
        "                print(leap_year, \"is a leap year!\")\n",
        "            else:\n",
        "                print(leap_year, \"is not a leap year.\")\n",
        "        else:\n",
        "            print(leap_year, \"is a leap year!\")\n",
        "    else:\n",
        "        print(leap_year, \"is not a leap year.\")\n",
        "\n",
        "if __name__ == '__main__':\n",
        "    main()\n"
      ],
      "metadata": {
        "colab": {
          "base_uri": "https://localhost:8080/"
        },
        "id": "wLXC9bcHTrC6",
        "outputId": "1b3d0dc7-89c8-4f44-e39d-494094d6e7cf"
      },
      "execution_count": 3,
      "outputs": [
        {
          "output_type": "stream",
          "name": "stdout",
          "text": [
            "Enter a valid year (e.g., 2000, 2006, 2024): 2005\n",
            "2005 is not a leap year.\n"
          ]
        }
      ]
    },
    {
      "cell_type": "code",
      "source": [
        "print(\"04_tall_enough_to_ride\")\n",
        "\n",
        "def check_height_loop():\n",
        "    while True:\n",
        "        height = input(\"How tall are you? (Press Enter to exit): \")\n",
        "\n",
        "        if height == \"\":\n",
        "            print(\"Goodbye! 👋\")\n",
        "            break\n",
        "\n",
        "        try:\n",
        "            height = int(height)\n",
        "            if height >= 50:\n",
        "                print(\"You're tall enough to ride!\\n\")\n",
        "            else:\n",
        "                print(\"You're not tall enough to ride, but maybe next year!\\n\")\n",
        "        except ValueError:\n",
        "            print(\"Please enter a valid number.\\n\")\n",
        "\n",
        "if __name__ == '__main__':\n",
        "    check_height_loop()\n"
      ],
      "metadata": {
        "colab": {
          "base_uri": "https://localhost:8080/"
        },
        "id": "8WSMIFldTtZD",
        "outputId": "2b4663f0-781e-463f-9884-aab1ebd47ae7"
      },
      "execution_count": 4,
      "outputs": [
        {
          "output_type": "stream",
          "name": "stdout",
          "text": [
            "04_tall_enough_to_ride\n",
            "How tall are you? (Press Enter to exit): 20\n",
            "You're not tall enough to ride, but maybe next year!\n",
            "\n",
            "How tall are you? (Press Enter to exit): 60\n",
            "You're tall enough to ride!\n",
            "\n",
            "How tall are you? (Press Enter to exit): \n",
            "Goodbye! 👋\n"
          ]
        }
      ]
    },
    {
      "cell_type": "code",
      "source": [
        "print(\"05_random_numbers\")\n",
        "import random\n",
        "LENGTH :int=10\n",
        "MIN:int=1\n",
        "MAX:int=100\n",
        "\n",
        "def generate():\n",
        "  print(\"Here is 10 random numbers between 1_100\" )\n",
        "  for i in range(LENGTH):\n",
        "    print(random.randint(MIN, MAX) , end=' ')\n",
        "if __name__ == '__main__':\n",
        "    generate()\n",
        ""
      ],
      "metadata": {
        "colab": {
          "base_uri": "https://localhost:8080/"
        },
        "id": "LaqDsaq9TwX8",
        "outputId": "05e33560-3ad8-4e7c-e610-75d35bb45a6f"
      },
      "execution_count": 5,
      "outputs": [
        {
          "output_type": "stream",
          "name": "stdout",
          "text": [
            "05_random_numbers\n",
            "Here is 10 random numbers between 1_100\n",
            "76 70 46 56 87 37 34 29 100 34 "
          ]
        }
      ]
    }
  ]
}