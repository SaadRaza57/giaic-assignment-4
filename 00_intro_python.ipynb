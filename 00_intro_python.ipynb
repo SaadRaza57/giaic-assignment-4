{
  "nbformat": 4,
  "nbformat_minor": 0,
  "metadata": {
    "colab": {
      "provenance": [],
      "authorship_tag": "ABX9TyNsXXyWeNMuvG8ReqdIQAOd",
      "include_colab_link": true
    },
    "kernelspec": {
      "name": "python3",
      "display_name": "Python 3"
    },
    "language_info": {
      "name": "python"
    }
  },
  "cells": [
    {
      "cell_type": "markdown",
      "metadata": {
        "id": "view-in-github",
        "colab_type": "text"
      },
      "source": [
        "<a href=\"https://colab.research.google.com/github/SaadRaza57/giaic-assignment-4/blob/main/00_intro_python.ipynb\" target=\"_parent\"><img src=\"https://colab.research.google.com/assets/colab-badge.svg\" alt=\"Open In Colab\"/></a>"
      ]
    },
    {
      "cell_type": "code",
      "execution_count": 1,
      "metadata": {
        "colab": {
          "base_uri": "https://localhost:8080/"
        },
        "id": "o0maJxNS9YZB",
        "outputId": "b7255eab-415b-43a0-c41a-f24a1f636cfb"
      },
      "outputs": [
        {
          "output_type": "stream",
          "name": "stdout",
          "text": [
            "01_add_two_numbers\n",
            "This application is for adding two numbers\n",
            "Enter your first number23\n",
            "Enter your second number34\n",
            "The total sum of 23 & 34 is 57\n"
          ]
        }
      ],
      "source": [
        "print(\"01_add_two_numbers\")\n",
        "\n",
        "def add():\n",
        "  print(\"This application is for adding two numbers\")\n",
        "  first_number = int(input(\"Enter your first number\"))\n",
        "  second_number = int(input(\"Enter your second number\"))\n",
        "  total = int(first_number+second_number)\n",
        "  print(f'The total sum of {first_number} & {second_number} is {total}')\n",
        "\n",
        "\n",
        "if __name__ == \"__main__\":\n",
        "  add()\n"
      ]
    },
    {
      "cell_type": "code",
      "source": [
        "print(\"02_agreement_bot\")\n",
        "\n",
        "def bot():\n",
        "  print(\"This application is for asks the user what their favorite animal\")\n",
        "  question = str(input(\"What's your favorite animal?\"))\n",
        "  print(f'My favorite animal is also {question}!')\n",
        "\n",
        "if __name__ == \"__main__\":\n",
        "  bot()"
      ],
      "metadata": {
        "colab": {
          "base_uri": "https://localhost:8080/"
        },
        "id": "Yge1NSq_-sZc",
        "outputId": "58d89075-eb31-4150-a10a-47de0ebe431e"
      },
      "execution_count": 2,
      "outputs": [
        {
          "output_type": "stream",
          "name": "stdout",
          "text": [
            "02_agreement_bot\n",
            "This application is for asks the user what their favorite animal\n",
            "What's your favorite animal?dog\n",
            "My favorite animal is also dog!\n"
          ]
        }
      ]
    },
    {
      "cell_type": "code",
      "source": [
        "print(\"03_fahrenheit_to_celsius\")\n",
        "\n",
        "def convert():\n",
        "  print(\"This application is for convert farenheit to celsius\")\n",
        "  degrees_fahrenheit = float(input(\"Enter temperature in Fahrenheit:\"))\n",
        "  degrees_celsius = (degrees_fahrenheit - 32) *5.0/9.0\n",
        "  print(f'Temperature:{degrees_fahrenheit}F={degrees_celsius}C')\n",
        "\n",
        "if __name__ == \"__main__\":\n",
        "  convert()\n",
        "\n"
      ],
      "metadata": {
        "colab": {
          "base_uri": "https://localhost:8080/"
        },
        "id": "8REGc8de-ycq",
        "outputId": "830191a4-adcd-4eda-bd3d-15041239dfe7"
      },
      "execution_count": 3,
      "outputs": [
        {
          "output_type": "stream",
          "name": "stdout",
          "text": [
            "03_fahrenheit_to_celsius\n",
            "This application is for convert farenheit to celsius\n",
            "Enter temperature in Fahrenheit:23\n",
            "Temperature:23.0F=-5.0C\n"
          ]
        }
      ]
    },
    {
      "cell_type": "code",
      "source": [
        "print(\"This application is for 04_how_old_are_they\")\n",
        "def age():\n",
        "  anton : int = 21\n",
        "  beth : int = anton+6\n",
        "  chen : int = beth + 20\n",
        "  drew : int = chen + anton\n",
        "  ethan: int = chen\n",
        "  print(\"Anton is \" + str(anton))\n",
        "  print(\"Beth is \" + str(beth))\n",
        "  print(\"Chen is \" + str(chen))\n",
        "  print(\"Drew is \" + str(drew))\n",
        "  print(\"Ethan is \" + str(ethan))\n",
        "\n",
        "if __name__ == \"__main__\":\n",
        "  age()\n",
        ""
      ],
      "metadata": {
        "colab": {
          "base_uri": "https://localhost:8080/"
        },
        "id": "5wM2W1Ar-4k4",
        "outputId": "af63970a-a643-433a-d247-6e77467701f8"
      },
      "execution_count": 4,
      "outputs": [
        {
          "output_type": "stream",
          "name": "stdout",
          "text": [
            "This application is for 04_how_old_are_they\n",
            "Anton is 21\n",
            "Beth is 27\n",
            "Chen is 47\n",
            "Drew is 68\n",
            "Ethan is 47\n"
          ]
        }
      ]
    },
    {
      "cell_type": "code",
      "source": [
        "\n",
        "print(\"05_triangle_perimeter\")\n",
        "def perimeter():\n",
        "  side1= float(input(\"What is the length of side 1?\"))\n",
        "  side2= float(input(\"What is the length of side 2?\"))\n",
        "  side3= float(input(\"What is the length of side 3?\"))\n",
        "  print(\"The perimeter of the triangle is \"+ str(side1+side2+side3))\n",
        "\n",
        "if __name__ == '__main__':\n",
        "  perimeter()\n",
        "\n",
        "\n"
      ],
      "metadata": {
        "colab": {
          "base_uri": "https://localhost:8080/"
        },
        "id": "DuDhRFAM-7bU",
        "outputId": "51b0d273-3894-41d0-e164-ca7afc0cb30f"
      },
      "execution_count": 5,
      "outputs": [
        {
          "output_type": "stream",
          "name": "stdout",
          "text": [
            "05_triangle_perimeter\n",
            "What is the length of side 1?2\n",
            "What is the length of side 2?3\n",
            "What is the length of side 3?4\n",
            "The perimeter of the triangle is 9.0\n"
          ]
        }
      ]
    },
    {
      "cell_type": "code",
      "source": [
        "print(\"06_square_number\")\n",
        "\n",
        "def square():\n",
        "  number: float =float(input(\"Type a number to see its square:\"))\n",
        "  square = number**2\n",
        "  print(f\"{number} squared is {square}\")\n",
        "\n",
        "if __name__ == '__main__':\n",
        "  square()\n",
        ""
      ],
      "metadata": {
        "colab": {
          "base_uri": "https://localhost:8080/"
        },
        "id": "Adr4wDWH_AMx",
        "outputId": "50da7069-aef8-429a-ea68-4abd4460e4ec"
      },
      "execution_count": 6,
      "outputs": [
        {
          "output_type": "stream",
          "name": "stdout",
          "text": [
            "06_square_number\n",
            "Type a number to see its square:34\n",
            "34.0 squared is 1156.0\n"
          ]
        }
      ]
    }
  ]
}