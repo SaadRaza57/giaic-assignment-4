{
  "nbformat": 4,
  "nbformat_minor": 0,
  "metadata": {
    "colab": {
      "provenance": [],
      "authorship_tag": "ABX9TyNO2atkA0nDtYygrpX9VXLT",
      "include_colab_link": true
    },
    "kernelspec": {
      "name": "python3",
      "display_name": "Python 3"
    },
    "language_info": {
      "name": "python"
    }
  },
  "cells": [
    {
      "cell_type": "markdown",
      "metadata": {
        "id": "view-in-github",
        "colab_type": "text"
      },
      "source": [
        "<a href=\"https://colab.research.google.com/github/SaadRaza57/giaic-assignment-4/blob/main/02_intermediate.ipynb\" target=\"_parent\"><img src=\"https://colab.research.google.com/assets/colab-badge.svg\" alt=\"Open In Colab\"/></a>"
      ]
    },
    {
      "cell_type": "code",
      "execution_count": 1,
      "metadata": {
        "colab": {
          "base_uri": "https://localhost:8080/"
        },
        "id": "6T0HSrhePqXm",
        "outputId": "74221244-78ae-441c-c5c0-9c233d21fa03"
      },
      "outputs": [
        {
          "output_type": "stream",
          "name": "stdout",
          "text": [
            "Control Flow for Console \n",
            "handout\n",
            "Welcome to the High-Low Game!🎮\n",
            "Try to guess if your number is higher or lower than the computer's.\n",
            "\n",
            "Round 1\n",
            "Your Number is 6\n",
            "Is your number higher or lower than the computer number? 8\n",
            "❌ Incorrect, the computer number is 14\n",
            "Your score is 0\n",
            "\n",
            "Round 2\n",
            "Your Number is 51\n",
            "Is your number higher or lower than the computer number? 50\n",
            "❌ Incorrect, the computer number is 67\n",
            "Your score is 0\n",
            "\n",
            "Round 3\n",
            "Your Number is 51\n",
            "Is your number higher or lower than the computer number? 67\n",
            "❌ Incorrect, the computer number is 10\n",
            "Your score is 0\n",
            "\n",
            "Round 4\n",
            "Your Number is 79\n",
            "Is your number higher or lower than the computer number? 40\n",
            "❌ Incorrect, the computer number is 37\n",
            "Your score is 0\n",
            "\n",
            "Round 5\n",
            "Your Number is 39\n",
            "Is your number higher or lower than the computer number? 40\n",
            "❌ Incorrect, the computer number is 46\n",
            "Your score is 0\n",
            "\n",
            "🎉 Game Over! Your final score is 0 / 5\n"
          ]
        }
      ],
      "source": [
        "print(\"Control Flow for Console \\nhandout\")\n",
        "\n",
        "import random\n",
        "total_round = 5\n",
        "\n",
        "def main():\n",
        "    print(\"Welcome to the High-Low Game!🎮\")\n",
        "    print(\"Try to guess if your number is higher or lower than the computer's.\\n\")\n",
        "\n",
        "    score = 0\n",
        "\n",
        "    for i in range(total_round):\n",
        "        print(f\"Round {i + 1}\")\n",
        "\n",
        "        computer_number = random.randint(1, 100)\n",
        "        your_number = random.randint(1, 100)\n",
        "        print(\"Your Number is\", your_number)\n",
        "\n",
        "        choise = input(\"Is your number higher or lower than the computer number? \").strip().lower()\n",
        "\n",
        "        higher_and_correct = your_number > computer_number and choise == \"higher\"\n",
        "        lower_and_correct = your_number < computer_number and choise == \"lower\"\n",
        "\n",
        "        if higher_and_correct or lower_and_correct:\n",
        "            print(\"✅ You were right! The computer number is\", computer_number)\n",
        "            score += 1\n",
        "        else:\n",
        "            print(\"❌ Incorrect, the computer number is\", computer_number)\n",
        "\n",
        "        print(\"Your score is\", score)\n",
        "        print()\n",
        "\n",
        "    print(\"🎉 Game Over! Your final score is\", score, \"/\", total_round)\n",
        "\n",
        "if __name__ == \"__main__\":\n",
        "    main()\n",
        "\n",
        ""
      ]
    },
    {
      "cell_type": "code",
      "source": [
        "print(\"Intro to Python \\nPlanetary Weight Calculator\")\n",
        "\n",
        "def main():\n",
        "    print(\"Welcome to the Planetary Weight Calculator!\")\n",
        "\n",
        "earth_weight=float(input(\"Enter your weight\"))\n",
        "\n",
        "gravity_ratio={\n",
        "    \"Mercury\":0.38,\n",
        "    \"Venus\":0.91,\n",
        "    \"Mars\":0.38,\n",
        "    \"Jupiter\":2.34,\n",
        "    \"saturn\":1.06,\n",
        "    \"Uranus\":0.92,\n",
        "    \"Neptune\":1.19\n",
        "}\n",
        "\n",
        "print(\"\\n select any plannet\")\n",
        "for planet in gravity_ratio:\n",
        "    print(f'- {planet}')\n",
        "\n",
        "planet_choice = input(\"Enter the name of the planet: \").strip().title()\n",
        "\n",
        "if planet_choice in gravity_ratio:\n",
        "    weight_on_planet = earth_weight * gravity_ratio[planet_choice]\n",
        "print(f'your weight in {planet_choice} is {weight_on_planet:.2f}')\n",
        "\n"
      ],
      "metadata": {
        "colab": {
          "base_uri": "https://localhost:8080/"
        },
        "id": "m6W27QCaRHS4",
        "outputId": "0fa3b08d-053a-422e-faf1-f99706c5a23e"
      },
      "execution_count": 2,
      "outputs": [
        {
          "output_type": "stream",
          "name": "stdout",
          "text": [
            "Intro to Python \n",
            "Planetary Weight Calculator\n",
            "Enter your weight56\n",
            "\n",
            " select any plannet\n",
            "- Mercury\n",
            "- Venus\n",
            "- Mars\n",
            "- Jupiter\n",
            "- saturn\n",
            "- Uranus\n",
            "- Neptune\n",
            "Enter the name of the planet: Mercury\n",
            "your weight in Mercury is 21.28\n"
          ]
        }
      ]
    },
    {
      "cell_type": "code",
      "source": [
        "print(\"Lists and Dicts \\nList Practice\")\n",
        "\n",
        "def main():\n",
        "  fruit_list=[\n",
        "      'apple',\n",
        "      'banana',\n",
        "      'cherry',\n",
        "      'date',\n",
        "      'elderberry',\n",
        "      'fig',\n",
        "      'grape',\n",
        "      'honeydew',\n",
        "      'kiwi',\n",
        "      'lemon'\n",
        "  ]\n",
        "\n",
        "  print(\"Length of the list is\", len(fruit_list))\n",
        "  print(\"List before append: \" , fruit_list)\n",
        "\n",
        "  fruit_list.append('mango')\n",
        "  print(\"Length of the list after append: \", len(fruit_list))\n",
        "\n",
        "  print(\"List after append: \", fruit_list)\n",
        "\n",
        "if __name__ =='__main__':\n",
        "  main()"
      ],
      "metadata": {
        "colab": {
          "base_uri": "https://localhost:8080/"
        },
        "id": "ZD92iH43RQfR",
        "outputId": "6e4d0267-8054-4192-c975-932bf35a4b23"
      },
      "execution_count": 4,
      "outputs": [
        {
          "output_type": "stream",
          "name": "stdout",
          "text": [
            "Lists and Dicts \n",
            "List Practice\n",
            "Length of the list is 10\n",
            "List before append:  ['apple', 'banana', 'cherry', 'date', 'elderberry', 'fig', 'grape', 'honeydew', 'kiwi', 'lemon']\n",
            "Length of the list after append:  11\n",
            "List after append:  ['apple', 'banana', 'cherry', 'date', 'elderberry', 'fig', 'grape', 'honeydew', 'kiwi', 'lemon', 'mango']\n"
          ]
        }
      ]
    },
    {
      "cell_type": "code",
      "source": [
        "def access_element(lst, index):\n",
        "    if 0 <= index < len(lst):\n",
        "        return lst[index]\n",
        "    else:\n",
        "        return \"Index out of range!\"\n",
        "\n",
        "def modify_element(lst, index, new_value):\n",
        "    if 0 <= index < len(lst):\n",
        "        lst[index] = new_value\n",
        "        return \"Element updated successfully!\"\n",
        "    else:\n",
        "        return \"Index out of range!\"\n",
        "\n",
        "def slice_list(lst, start, end):\n",
        "    if start < 0 or end > len(lst):\n",
        "        return \"Start or end index is out of range!\"\n",
        "    return lst[start:end]\n",
        "\n",
        "def main():\n",
        "    my_list = ['apple', 'banana', 'cherry', 'date', 'elderberry']\n",
        "\n",
        "    print(\"🍇 Welcome to the List Practice Game!\")\n",
        "    print(\"Your starting list is:\", my_list)\n",
        "\n",
        "    while True:\n",
        "        print(\"\\nChoose an operation:\")\n",
        "        print(\"1. Access an element\")\n",
        "        print(\"2. Modify an element\")\n",
        "        print(\"3. Slice the list\")\n",
        "        print(\"4. Exit\")\n",
        "\n",
        "        choice = input(\"Enter your choice (1-4): \").strip()\n",
        "\n",
        "        if choice == \"1\":\n",
        "            try:\n",
        "                index = int(input(\"Enter the index to access: \"))\n",
        "                result = access_element(my_list, index)\n",
        "                print(\"Result:\", result)\n",
        "            except ValueError:\n",
        "                print(\"Please enter a valid number.\")\n",
        "\n",
        "        elif choice == \"2\":\n",
        "            try:\n",
        "                index = int(input(\"Enter the index to modify: \"))\n",
        "                new_value = input(\"Enter the new value: \")\n",
        "                result = modify_element(my_list, index, new_value)\n",
        "                print(result)\n",
        "                print(\"Updated List:\", my_list)\n",
        "            except ValueError:\n",
        "                print(\"Please enter a valid number.\")\n",
        "\n",
        "        elif choice == \"3\":\n",
        "            try:\n",
        "                start = int(input(\"Enter the start index: \"))\n",
        "                end = int(input(\"Enter the end index: \"))\n",
        "                result = slice_list(my_list, start, end)\n",
        "                print(\"Sliced List:\", result)\n",
        "            except ValueError:\n",
        "                print(\"Please enter valid numbers.\")\n",
        "\n",
        "        elif choice == \"4\":\n",
        "            print(\"👋 Exiting the game. Goodbye!\")\n",
        "            print(\"updated list:\" , my_list)\n",
        "\n",
        "            break\n",
        "        else:\n",
        "            print(\"Invalid choice! Please select from 1 to 4.\")\n",
        "\n",
        "\n",
        "\n",
        "if __name__ == \"__main__\":\n",
        "    main()"
      ],
      "metadata": {
        "colab": {
          "base_uri": "https://localhost:8080/"
        },
        "id": "kMd5nsUVRmYF",
        "outputId": "78e72025-24cb-4c29-a3f4-a492102d9b8c"
      },
      "execution_count": 6,
      "outputs": [
        {
          "output_type": "stream",
          "name": "stdout",
          "text": [
            "🍇 Welcome to the List Practice Game!\n",
            "Your starting list is: ['apple', 'banana', 'cherry', 'date', 'elderberry']\n",
            "\n",
            "Choose an operation:\n",
            "1. Access an element\n",
            "2. Modify an element\n",
            "3. Slice the list\n",
            "4. Exit\n",
            "Enter your choice (1-4): 3\n",
            "Enter the start index: 2\n",
            "Enter the end index: 3\n",
            "Sliced List: ['cherry']\n",
            "\n",
            "Choose an operation:\n",
            "1. Access an element\n",
            "2. Modify an element\n",
            "3. Slice the list\n",
            "4. Exit\n",
            "Enter your choice (1-4): 4\n",
            "👋 Exiting the game. Goodbye!\n",
            "updated list: ['apple', 'banana', 'cherry', 'date', 'elderberry']\n"
          ]
        }
      ]
    }
  ]
}