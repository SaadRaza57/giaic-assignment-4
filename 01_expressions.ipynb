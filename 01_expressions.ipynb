{
  "nbformat": 4,
  "nbformat_minor": 0,
  "metadata": {
    "colab": {
      "provenance": [],
      "authorship_tag": "ABX9TyNl5S/a1hlR+SW1jsR442wt",
      "include_colab_link": true
    },
    "kernelspec": {
      "name": "python3",
      "display_name": "Python 3"
    },
    "language_info": {
      "name": "python"
    }
  },
  "cells": [
    {
      "cell_type": "markdown",
      "metadata": {
        "id": "view-in-github",
        "colab_type": "text"
      },
      "source": [
        "<a href=\"https://colab.research.google.com/github/SaadRaza57/giaic-assignment-4/blob/main/01_expressions.ipynb\" target=\"_parent\"><img src=\"https://colab.research.google.com/assets/colab-badge.svg\" alt=\"Open In Colab\"/></a>"
      ]
    },
    {
      "cell_type": "code",
      "execution_count": 1,
      "metadata": {
        "colab": {
          "base_uri": "https://localhost:8080/"
        },
        "id": "GrNeifG6N-lE",
        "outputId": "87f2be41-bef4-45d2-ac78-c44db7939453"
      },
      "outputs": [
        {
          "output_type": "stream",
          "name": "stdout",
          "text": [
            "01_dicesimulator\n",
            "die1 in main() starts as: 10\n",
            "Total of 2 dice : 8\n",
            "Total of 2 dice : 9\n",
            "Total of 2 dice : 7\n",
            "die1 in main() is: 10\n"
          ]
        }
      ],
      "source": [
        "import random\n",
        "\n",
        "print(\"01_dicesimulator\")\n",
        "\n",
        "def dice():\n",
        "  die1:int= random.randint(1,6)\n",
        "  die2:int=random.randint(1,6)\n",
        "  total:int = die1 + die2\n",
        "\n",
        "  print(f'Total of 2 dice : {total}')\n",
        "\n",
        "def main():\n",
        "  die1:int=10\n",
        "  print(\"die1 in main() starts as: \" + str(die1))\n",
        "  dice()\n",
        "  dice()\n",
        "  dice()\n",
        "  print(\"die1 in main() is: \" + str(die1))\n",
        "\n",
        "if __name__ =='__main__':\n",
        "  main()\n"
      ]
    },
    {
      "cell_type": "code",
      "source": [
        "print(\"02_e = m * c^2\")\n",
        "\n",
        "C: int = 299_792_458  # Speed of light in meters/second\n",
        "\n",
        "def calculate_energy():\n",
        "    mass = float(input(\"Enter mass in kilograms: \"))\n",
        "    joules_of_energy = mass * (C ** 2)\n",
        "    print(\"e = m * c^2\")\n",
        "    print(f\"m = {mass} kg\")\n",
        "    print(f\"C = {C} m/s\")\n",
        "    print(f\"{joules_of_energy} joules of energy!\")\n",
        "\n",
        "if __name__ == '__main__':\n",
        "    calculate_energy()\n"
      ],
      "metadata": {
        "colab": {
          "base_uri": "https://localhost:8080/"
        },
        "id": "clRO2eDOOKid",
        "outputId": "896d9f1a-66ce-44a0-d3bc-afde53edb361"
      },
      "execution_count": 2,
      "outputs": [
        {
          "output_type": "stream",
          "name": "stdout",
          "text": [
            "02_e = m * c^2\n",
            "Enter mass in kilograms: 45\n",
            "e = m * c^2\n",
            "m = 45.0 kg\n",
            "C = 299792458 m/s\n",
            "4.044398304315679e+18 joules of energy!\n"
          ]
        }
      ]
    },
    {
      "cell_type": "code",
      "source": [
        "print(\"03_feet_to_inches\")\n",
        "inches_in_feet:int=12\n",
        "\n",
        "def inc_feet():\n",
        "  feet: float = float(input(\"Enter number of feet: \"))\n",
        "  inches: float=(inches_in_feet*feet)\n",
        "  print(f\"{feet} feet is equal to {inches} inches\")\n",
        "\n",
        "if __name__ == '__main__':\n",
        "  inc_feet()\n"
      ],
      "metadata": {
        "colab": {
          "base_uri": "https://localhost:8080/"
        },
        "id": "29N9GVcfOQPy",
        "outputId": "6a333569-4dad-44f9-f8ee-8482a8492f6b"
      },
      "execution_count": 3,
      "outputs": [
        {
          "output_type": "stream",
          "name": "stdout",
          "text": [
            "03_feet_to_inches\n",
            "Enter number of feet: 15\n",
            "15.0 feet is equal to 180.0 inches\n"
          ]
        }
      ]
    },
    {
      "cell_type": "code",
      "source": [
        "import math\n",
        "print(\"04_pythagorean_theorem\")\n",
        "\n",
        "def pythagorean_theorem():\n",
        "  AB:float= float(input(\"Enter the length of AB:\"))\n",
        "  AC:float= float(input(\"Enter the length of AC:\"))\n",
        "  BC: float=math.sqrt(AB**2+AC**2)\n",
        "\n",
        "  print(\"Enter the length of BC (the hypotenuse) is:\", BC)\n",
        "\n",
        "\n",
        "if __name__ == '__main__':\n",
        "  pythagorean_theorem()\n",
        ""
      ],
      "metadata": {
        "colab": {
          "base_uri": "https://localhost:8080/"
        },
        "id": "p6C-xUnMOSG2",
        "outputId": "a8fd94b2-c4b9-402f-830b-508dcdd47aa8"
      },
      "execution_count": 4,
      "outputs": [
        {
          "output_type": "stream",
          "name": "stdout",
          "text": [
            "04_pythagorean_theorem\n",
            "Enter the length of AB:4\n",
            "Enter the length of AC:3\n",
            "Enter the length of BC (the hypotenuse) is: 5.0\n"
          ]
        }
      ]
    },
    {
      "cell_type": "code",
      "source": [
        "print(\"05_remainder_division\")\n",
        "\n",
        "def remainder_division():\n",
        "    dividend: int = int(input(\"Please enter an integer to be divided: \"))\n",
        "    divisor: int = int(input(\"Please enter an integer to divide by: \"))\n",
        "\n",
        "    quotient: int = dividend // divisor\n",
        "    remainder: int = dividend % divisor\n",
        "\n",
        "    print(f\"The result of {dividend} ÷ {divisor} is:\")\n",
        "    print(f\"Quotient = {quotient}\")\n",
        "    print(f\"Remainder = {remainder}\")\n",
        "\n",
        "if __name__ == '__main__':\n",
        "    remainder_division()\n"
      ],
      "metadata": {
        "colab": {
          "base_uri": "https://localhost:8080/"
        },
        "id": "xTYboljBOXSJ",
        "outputId": "445ce442-69fa-4c14-ced6-1292f158f86c"
      },
      "execution_count": 5,
      "outputs": [
        {
          "output_type": "stream",
          "name": "stdout",
          "text": [
            "05_remainder_division\n",
            "Please enter an integer to be divided: 45\n",
            "Please enter an integer to divide by: 67\n",
            "The result of 45 ÷ 67 is:\n",
            "Quotient = 0\n",
            "Remainder = 45\n"
          ]
        }
      ]
    },
    {
      "cell_type": "code",
      "source": [
        "import random\n",
        "print(\"06_rolldice\")\n",
        "\n",
        "NUM_SIDES: int = 6\n",
        "\n",
        "def dics():\n",
        "    die1: int = random.randint(1, NUM_SIDES)\n",
        "    die2: int = random.randint(1, NUM_SIDES)\n",
        "\n",
        "    # Get their total\n",
        "    total: int = die1 + die2\n",
        "\n",
        "    # Print out the results\n",
        "    print(\"Dice have\", NUM_SIDES, \"sides each.\")\n",
        "    print(\"First die:\", die1)\n",
        "    print(\"Second die:\", die2)\n",
        "    print(\"Total of two dice:\", total)\n",
        "\n",
        "if __name__ == '__main__':\n",
        "    dics()\n"
      ],
      "metadata": {
        "colab": {
          "base_uri": "https://localhost:8080/"
        },
        "id": "1q7JMXl6Og6n",
        "outputId": "baa16874-eb0d-4370-dfb9-53ee4abf0695"
      },
      "execution_count": 6,
      "outputs": [
        {
          "output_type": "stream",
          "name": "stdout",
          "text": [
            "06_rolldice\n",
            "Dice have 6 sides each.\n",
            "First die: 6\n",
            "Second die: 6\n",
            "Total of two dice: 12\n"
          ]
        }
      ]
    },
    {
      "cell_type": "code",
      "source": [
        "print(\"07_seconds_in_year\")\n",
        "days_in_year: int = 365\n",
        "hours_in_day: int = 24\n",
        "min_in_hours: int = 60\n",
        "sec_in_min: int = 60\n",
        "\n",
        "def seconds_in_year():\n",
        "    total_seconds = days_in_year * hours_in_day * min_in_hours * sec_in_min\n",
        "    print(f\"There are {total_seconds} seconds in a year.\")\n",
        "\n",
        "if __name__ == '__main__':\n",
        "    seconds_in_year()\n"
      ],
      "metadata": {
        "colab": {
          "base_uri": "https://localhost:8080/"
        },
        "id": "DfBIowqOOixp",
        "outputId": "4dce4387-9d7d-46b2-cabb-6393d885854b"
      },
      "execution_count": 10,
      "outputs": [
        {
          "output_type": "stream",
          "name": "stdout",
          "text": [
            "07_seconds_in_year\n",
            "There are 31536000 seconds in a year.\n"
          ]
        }
      ]
    },
    {
      "cell_type": "code",
      "source": [
        "print(\"08_tiny_mad_lib\")\n",
        "SENTENCE_START:str=\"Code in Place is fun. I learned to program and used Python to make my\"\n",
        "\n",
        "def mad_lib():\n",
        "  adjective:str=str(input(\"Please type an adjective and press enter:\"))\n",
        "  noun:str=str(input(\"Please type an noun and press enter:\"))\n",
        "  verb:str=str(input(\"Please type an verb and press enter:\"))\n",
        "\n",
        "  print(SENTENCE_START ,\"\"+  adjective, \"\"+ noun, \"\" + verb , \"!\")\n",
        "\n",
        "if __name__ == '__main__':\n",
        "    mad_lib()\n",
        ""
      ],
      "metadata": {
        "colab": {
          "base_uri": "https://localhost:8080/"
        },
        "id": "n3gIM0JKOq4s",
        "outputId": "9a050607-452d-4b6b-eedd-215c39900a5e"
      },
      "execution_count": 12,
      "outputs": [
        {
          "output_type": "stream",
          "name": "stdout",
          "text": [
            "08_tiny_mad_lib\n",
            "Please type an adjective and press enter:happy\n",
            "Please type an noun and press enter:cat\n",
            "Please type an verb and press enter:dance\n",
            "Code in Place is fun. I learned to program and used Python to make my happy cat dance !\n"
          ]
        }
      ]
    },
    {
      "cell_type": "code",
      "source": [],
      "metadata": {
        "id": "hBkK1APoPFiU"
      },
      "execution_count": null,
      "outputs": []
    }
  ]
}