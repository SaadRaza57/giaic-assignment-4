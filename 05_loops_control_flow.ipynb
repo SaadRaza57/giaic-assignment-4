{
  "nbformat": 4,
  "nbformat_minor": 0,
  "metadata": {
    "colab": {
      "provenance": [],
      "authorship_tag": "ABX9TyOfcR/f40d4rucmU5qwzg1Q",
      "include_colab_link": true
    },
    "kernelspec": {
      "name": "python3",
      "display_name": "Python 3"
    },
    "language_info": {
      "name": "python"
    }
  },
  "cells": [
    {
      "cell_type": "markdown",
      "metadata": {
        "id": "view-in-github",
        "colab_type": "text"
      },
      "source": [
        "<a href=\"https://colab.research.google.com/github/SaadRaza57/giaic-assignment-4/blob/main/05_loops_control_flow.ipynb\" target=\"_parent\"><img src=\"https://colab.research.google.com/assets/colab-badge.svg\" alt=\"Open In Colab\"/></a>"
      ]
    },
    {
      "cell_type": "code",
      "execution_count": 4,
      "metadata": {
        "colab": {
          "base_uri": "https://localhost:8080/"
        },
        "id": "00uhkSJCWY_b",
        "outputId": "24e85c58-5438-48bd-eed5-b6f1b765637a"
      },
      "outputs": [
        {
          "output_type": "stream",
          "name": "stdout",
          "text": [
            "03_guess_my_number\n",
            "Welcome to the number guessing game!\n",
            "I'm thinking of a number between 1 and 100.\n",
            "Take a guess: 34\n",
            "Oops! Your guess is Too High! Keep trying.\n",
            "Take a guess: 45\n",
            "Oops! Your guess is Too High! Keep trying.\n",
            "Take a guess: 66\n",
            "Oops! Your guess is Too High! Keep trying.\n",
            "Take a guess: 20\n",
            "Oops! Your guess is Too High! Keep trying.\n",
            "Take a guess: 5\n",
            "Oops! Your guess is Too High! Keep trying.\n",
            "Take a guess: 2\n",
            "Congrats! The number was 2\n"
          ]
        }
      ],
      "source": [
        "import random\n",
        "\n",
        "print(\"03_guess_my_number\")\n",
        "\n",
        "secret_number = random.randint(1, 100)\n",
        "\n",
        "print(\"Welcome to the number guessing game!\")\n",
        "print(\"I'm thinking of a number between 1 and 100.\")\n",
        "\n",
        "def guess_numbers():\n",
        "    while True:\n",
        "        guess = int(input(\"Take a guess: \"))\n",
        "\n",
        "        if guess > secret_number:\n",
        "            print(\"Oops! Your guess is Too High! Keep trying.\")\n",
        "        elif guess < secret_number:\n",
        "            print(\"Oops! Your guess is Too Low! Keep trying.\")\n",
        "        else:\n",
        "            print(\"Congrats! The number was \" + str(secret_number))\n",
        "            break\n",
        "\n",
        "if __name__ == \"__main__\":\n",
        "    guess_numbers()\n"
      ]
    },
    {
      "cell_type": "code",
      "source": [
        "print(\"01_fibonacci\")\n",
        "\n",
        "MAX_TERM_VALUE=10000\n",
        "def fib(MAX_TERM_VALUE):\n",
        "  curr_num = 0\n",
        "  next_num = 1\n",
        "  while curr_num <= MAX_TERM_VALUE:\n",
        "    print(curr_num)\n",
        "    curr_num, next_num = next_num, curr_num + next_num\n",
        "\n",
        "if __name__ == \"__main__\":\n",
        "    fib(MAX_TERM_VALUE)\n"
      ],
      "metadata": {
        "colab": {
          "base_uri": "https://localhost:8080/"
        },
        "id": "kjN_e3YFWgnq",
        "outputId": "9b5d9f55-534d-43cd-8e9b-2a4a0a9bc1c7"
      },
      "execution_count": 5,
      "outputs": [
        {
          "output_type": "stream",
          "name": "stdout",
          "text": [
            "01_fibonacci\n",
            "0\n",
            "1\n",
            "1\n",
            "2\n",
            "3\n",
            "5\n",
            "8\n",
            "13\n",
            "21\n",
            "34\n",
            "55\n",
            "89\n",
            "144\n",
            "233\n",
            "377\n",
            "610\n",
            "987\n",
            "1597\n",
            "2584\n",
            "4181\n",
            "6765\n"
          ]
        }
      ]
    },
    {
      "cell_type": "code",
      "source": [
        "print(\"02_print_events\")\n",
        "\n",
        "def even_number_20():\n",
        "    for i in range(20):\n",
        "        print(i * 2, end=' ')\n",
        "\n",
        "def main():\n",
        "    even_number_20()\n",
        "\n",
        "if __name__ == \"__main__\":\n",
        "    main()\n"
      ],
      "metadata": {
        "colab": {
          "base_uri": "https://localhost:8080/"
        },
        "id": "kASh5cIzWjGT",
        "outputId": "a06b910d-c52c-4db6-dc7a-721c587b222a"
      },
      "execution_count": 6,
      "outputs": [
        {
          "output_type": "stream",
          "name": "stdout",
          "text": [
            "02_print_events\n",
            "0 2 4 6 8 10 12 14 16 18 20 22 24 26 28 30 32 34 36 38 "
          ]
        }
      ]
    },
    {
      "cell_type": "code",
      "source": [
        "print(\"03_wholesome_machine\")\n",
        "\n",
        "AFFIRMATION = \"I am capable of doing anything I put my mind to.\"\n",
        "\n",
        "def main():\n",
        "    print(\"Welcome to the Wholesome Machine\")\n",
        "    while True:\n",
        "        print(\"Please type the following affirmation:\")\n",
        "        user_input = input()\n",
        "\n",
        "        if user_input == AFFIRMATION:\n",
        "            print(\"That's right! :)\")\n",
        "            break\n",
        "        else:\n",
        "            print(\"Hmmm That was not the affirmation.\")\n",
        "\n",
        "if __name__ == \"__main__\":\n",
        "    main()"
      ],
      "metadata": {
        "colab": {
          "base_uri": "https://localhost:8080/"
        },
        "id": "O66pnIuKWnU4",
        "outputId": "b33c0b1c-4303-4e9a-ae8e-df00ddf9872f"
      },
      "execution_count": 8,
      "outputs": [
        {
          "output_type": "stream",
          "name": "stdout",
          "text": [
            "03_wholesome_machine\n",
            "Welcome to the Wholesome Machine\n",
            "Please type the following affirmation:\n",
            "I am capable of doing anything I put my mind to.\n",
            "That's right! :)\n"
          ]
        }
      ]
    },
    {
      "cell_type": "code",
      "source": [
        "print(\"04_liftoff\")\n",
        "\n",
        "def main():\n",
        "  for i in range(10):\n",
        "    print(10-i, end=' ')\n",
        "  print(\"Liftoff!\")\n",
        "\n",
        "if __name__ == '__main__':\n",
        "  main()"
      ],
      "metadata": {
        "colab": {
          "base_uri": "https://localhost:8080/"
        },
        "id": "MTp9z2QtWoHh",
        "outputId": "83c4d6be-0d35-4a78-b04d-418e7ea38035"
      },
      "execution_count": 9,
      "outputs": [
        {
          "output_type": "stream",
          "name": "stdout",
          "text": [
            "04_liftoff\n",
            "10 9 8 7 6 5 4 3 2 1 Liftoff!\n"
          ]
        }
      ]
    },
    {
      "cell_type": "code",
      "source": [
        "print(\"05_double_it\")\n",
        "\n",
        "def main():\n",
        "    while True:\n",
        "        user_input = input(\"Please enter a number (or exit to quit): \")\n",
        "\n",
        "        if user_input.lower() == '':\n",
        "            break\n",
        "\n",
        "        try:\n",
        "            number = float(user_input)\n",
        "            print(\"Double is:\", number * 2)\n",
        "        except ValueError:\n",
        "            print(\"That's not a valid number. Try again.\")\n",
        "\n",
        "if __name__ == '__main__':\n",
        "    main()\n"
      ],
      "metadata": {
        "colab": {
          "base_uri": "https://localhost:8080/"
        },
        "id": "5ycuNCuWWquH",
        "outputId": "618bad6d-0e71-40e6-c7a2-13ae430cdccf"
      },
      "execution_count": 10,
      "outputs": [
        {
          "name": "stdout",
          "output_type": "stream",
          "text": [
            "05_double_it\n",
            "Please enter a number (or exit to quit): 34\n",
            "Double is: 68.0\n",
            "Please enter a number (or exit to quit): \n"
          ]
        }
      ]
    }
  ]
}