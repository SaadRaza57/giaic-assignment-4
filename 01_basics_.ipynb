{
  "nbformat": 4,
  "nbformat_minor": 0,
  "metadata": {
    "colab": {
      "provenance": [],
      "authorship_tag": "ABX9TyPdMyPwxdUu2T7o1d+jiMcc",
      "include_colab_link": true
    },
    "kernelspec": {
      "name": "python3",
      "display_name": "Python 3"
    },
    "language_info": {
      "name": "python"
    }
  },
  "cells": [
    {
      "cell_type": "markdown",
      "metadata": {
        "id": "view-in-github",
        "colab_type": "text"
      },
      "source": [
        "<a href=\"https://colab.research.google.com/github/SaadRaza57/giaic-assignment-4/blob/main/01_basics_.ipynb\" target=\"_parent\"><img src=\"https://colab.research.google.com/assets/colab-badge.svg\" alt=\"Open In Colab\"/></a>"
      ]
    },
    {
      "cell_type": "code",
      "execution_count": 1,
      "metadata": {
        "colab": {
          "base_uri": "https://localhost:8080/"
        },
        "id": "CMegmjEnK-Iu",
        "outputId": "a1fc7693-eb23-4866-e224-9129dc5ec07b"
      },
      "outputs": [
        {
          "output_type": "stream",
          "name": "stdout",
          "text": [
            "00_joke_bot\n",
            "What do you want?joke\n",
            "Why do programmers prefer dark mode?🤑 \n",
            "Because light attracts bugs. 🐛💡😆\n"
          ]
        }
      ],
      "source": [
        "print(\"00_joke_bot\")\n",
        "\n",
        "PROMT : str = \"What do you want?\"\n",
        "JOKE : str =\"Why do programmers prefer dark mode?🤑 \\nBecause light attracts bugs. 🐛💡😆\"\n",
        "SORRY : str =\"Sorry I only tell jokes\"\n",
        "\n",
        "def main():\n",
        "  user_input= input(PROMT).strip().lower()\n",
        "\n",
        "  if \"joke\" in user_input:\n",
        "    print(JOKE)\n",
        "  else:\n",
        "    print(SORRY)\n",
        "\n",
        "if __name__ == \"__main__\":\n",
        "  main()"
      ]
    },
    {
      "cell_type": "code",
      "source": [
        "print(\"01_double_it\")\n",
        "\n",
        "def main():\n",
        "    while True:\n",
        "        user_input = input(\"Please enter a number (or exit to quit): \")\n",
        "\n",
        "        if user_input.lower() == 'exit':\n",
        "            break\n",
        "\n",
        "        try:\n",
        "            number = float(user_input)\n",
        "            print(user_input, \"Double is:\", number * 2)\n",
        "        except ValueError:\n",
        "            print(\"That's not a valid number. Try again.\")\n",
        "\n",
        "if __name__ == '__main__':\n",
        "    main()"
      ],
      "metadata": {
        "colab": {
          "base_uri": "https://localhost:8080/"
        },
        "id": "5JNR4ha3LK4v",
        "outputId": "4ee285f7-1b3e-43f7-8678-646087b175b5"
      },
      "execution_count": 5,
      "outputs": [
        {
          "name": "stdout",
          "output_type": "stream",
          "text": [
            "01_double_it\n",
            "Please enter a number (or exit to quit): 3\n",
            "3 Double is: 6.0\n",
            "Please enter a number (or exit to quit): 4\n",
            "4 Double is: 8.0\n",
            "Please enter a number (or exit to quit): 8\n",
            "8 Double is: 16.0\n",
            "Please enter a number (or exit to quit): exit\n"
          ]
        }
      ]
    },
    {
      "cell_type": "code",
      "source": [
        "print(\"02_liftoff\")\n",
        "\n",
        "def main():\n",
        "  for i in range(10):\n",
        "    print(10-i, end=' ')\n",
        "  print(\"Liftoff!\")\n",
        "\n",
        "if __name__ == '__main__':\n",
        "  main()"
      ],
      "metadata": {
        "colab": {
          "base_uri": "https://localhost:8080/"
        },
        "id": "hC553KOkLdgF",
        "outputId": "15b24970-ba63-4846-f4ad-7f9adca01fac"
      },
      "execution_count": 8,
      "outputs": [
        {
          "output_type": "stream",
          "name": "stdout",
          "text": [
            "02_liftoff\n",
            "10 9 8 7 6 5 4 3 2 1 Liftoff!\n"
          ]
        }
      ]
    },
    {
      "cell_type": "code",
      "source": [
        "import random\n",
        "\n",
        "print(\"03_guess_my_number\")\n",
        "\n",
        "secret_numbet=random.randint(1,100)\n",
        "\n",
        "print(\"Welcome to the number guessing game!\")\n",
        "print(\"I'm thinking of a number between 1 and 100.\")\n",
        "\n",
        "def guess_numbers():\n",
        "    while True:\n",
        "            guess=int(input(\"Take a guess:\"))\n",
        "            if guess > secret_numbet:\n",
        "              print(\"Opps! Your guess is Too High! Keep trying\")\n",
        "            elif guess==secret_numbet:\n",
        "              print(\"Congracts! the number was \" + str(secret_numbet))\n",
        "              break\n",
        "\n",
        "if __name__ == \"__main__\":\n",
        "    guess_numbers()\n",
        ""
      ],
      "metadata": {
        "colab": {
          "base_uri": "https://localhost:8080/"
        },
        "id": "YDtQtCnUL_bq",
        "outputId": "ce3bbce5-a7e7-44fc-bcfc-81b6bcbcd03e"
      },
      "execution_count": 15,
      "outputs": [
        {
          "output_type": "stream",
          "name": "stdout",
          "text": [
            "03_guess_my_number\n",
            "Welcome to the number guessing game!\n",
            "I'm thinking of a number between 1 and 100.\n",
            "Take a guess:34\n",
            "Opps! Your guess is Too High! Keep trying\n",
            "Take a guess:20\n",
            "Opps! Your guess is Too High! Keep trying\n",
            "Take a guess:10\n",
            "Opps! Your guess is Too High! Keep trying\n",
            "Take a guess:6\n",
            "Take a guess:5\n",
            "Take a guess:7\n",
            "Take a guess:8\n",
            "Take a guess:9\n",
            "Congracts! the number was 9\n"
          ]
        }
      ]
    },
    {
      "cell_type": "code",
      "source": [
        "import random\n",
        "print(\"04_random_numbers\")\n",
        "LENGTH :int=10\n",
        "MIN:int=1\n",
        "MAX:int=100\n",
        "\n",
        "def generate():\n",
        "  print(\"Here is 10 random numbers between 1_100\" )\n",
        "  for i in range(LENGTH):\n",
        "    print(random.randint(MIN, MAX) , end=' ')\n",
        "if __name__ == '__main__':\n",
        "    generate()\n",
        ""
      ],
      "metadata": {
        "colab": {
          "base_uri": "https://localhost:8080/"
        },
        "id": "4O3rUZEZNlRC",
        "outputId": "34c117b4-6f1c-459f-8894-c20f9d410112"
      },
      "execution_count": 17,
      "outputs": [
        {
          "output_type": "stream",
          "name": "stdout",
          "text": [
            "04_random_numbers\n",
            "Here is 10 random numbers between 1_100\n",
            "15 10 65 28 83 45 13 5 46 47 "
          ]
        }
      ]
    }
  ]
}